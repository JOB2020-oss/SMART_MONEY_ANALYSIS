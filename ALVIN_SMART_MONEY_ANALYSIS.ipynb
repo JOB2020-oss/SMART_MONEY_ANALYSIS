{
 "cells": [
  {
   "cell_type": "code",
   "execution_count": 91,
   "id": "0694ce63",
   "metadata": {},
   "outputs": [],
   "source": [
    "from zipfile import ZipFile\n",
    "import numpy as np\n",
    "import pandas as pd\n",
    "import matplotlib.pyplot as plt\n",
    "import seaborn as sns\n",
    "import warnings\n",
    "from collections import Counter\n",
    "warnings.filterwarnings(\"ignore\")\n",
    "pd.set_option(\"display.max_colwidth\",None)"
   ]
  },
  {
   "cell_type": "code",
   "execution_count": 188,
   "id": "087a777f",
   "metadata": {},
   "outputs": [],
   "source": [
    "train = pd.read_csv(\"Train.csv\")\n",
    "test = pd.read_csv(\"Test.csv\")\n",
    "extra = pd.read_csv(\"extra_data.csv\")\n",
    "sample  = pd.read_csv(\"SampleSubmission.csv\")\n",
    "defn = pd.read_csv(\"VariableDefinitions.csv\")\n",
    "ID = test[\"Transaction_ID\"]"
   ]
  },
  {
   "cell_type": "code",
   "execution_count": 176,
   "id": "6c671ef5",
   "metadata": {},
   "outputs": [],
   "source": [
    "train[\"split\"] = -777\n",
    "test[\"split\"] = -888\n",
    "#extra[\"split\"] = -999\n",
    "data = pd.concat([train,test]).reset_index(drop=True)"
   ]
  },
  {
   "cell_type": "code",
   "execution_count": 177,
   "id": "8bf3121d",
   "metadata": {},
   "outputs": [],
   "source": [
    "try:\n",
    "    del data[\"MERCHANT_CATEGORIZED_AT\"],data[\"USER_ID\"],data[\"Transaction_ID\"],data[\"USER_AGE\"]\n",
    "    #del train[\"MERCHANT_NAME\"],train[\"USER_AGE\"]\n",
    "except Exception:\n",
    "    print(\"Already dropped\")\n",
    "#data[\"USER_AGE\"] = data[\"USER_AGE\"].fillna(data[\"USER_AGE\"].median())\n",
    "#train = pd.get_dummies(train,columns=[\"MERCHANT_NAME\"])"
   ]
  },
  {
   "cell_type": "code",
   "execution_count": 178,
   "id": "b1e77f42",
   "metadata": {},
   "outputs": [],
   "source": [
    "data[\"PURCHASED_AT\"] = pd.to_datetime(data[\"PURCHASED_AT\"]).dt.tz_localize(None)\n",
    "data[\"PURCHASE_DATE\"] = pd.to_datetime(data[\"PURCHASED_AT\"]).dt.day\n",
    "data[\"PURCHASE_MONTH\"] = pd.to_datetime(data[\"PURCHASED_AT\"]).dt.month\n",
    "data[\"PURCHASE_YEAR\"] = pd.to_datetime(data[\"PURCHASED_AT\"]).dt.year\n",
    "del data[\"PURCHASED_AT\"]"
   ]
  },
  {
   "cell_type": "code",
   "execution_count": 179,
   "id": "7da1c306",
   "metadata": {},
   "outputs": [],
   "source": [
    "data = pd.get_dummies(data,columns=[\"MERCHANT_NAME\"])"
   ]
  },
  {
   "cell_type": "code",
   "execution_count": 180,
   "id": "04405043",
   "metadata": {},
   "outputs": [],
   "source": [
    "from sklearn.preprocessing import LabelEncoder\n",
    "le = LabelEncoder()\n",
    "for i in data:\n",
    "    if data[i].dtypes == 'O' or data[i].dtypes ==  bool:\n",
    "        data[i] = le.fit_transform(data[i])"
   ]
  },
  {
   "cell_type": "code",
   "execution_count": 181,
   "id": "ee6e487a",
   "metadata": {},
   "outputs": [],
   "source": [
    "train = data[data[\"split\"] == -777]\n",
    "test = data[data[\"split\"] == -888]\n",
    "extra = data[data[\"split\"] == -999]\n",
    "del train[\"split\"],test[\"split\"]\n",
    "del extra[\"MERCHANT_CATEGORIZED_AS\"],extra[\"split\"],test[\"MERCHANT_CATEGORIZED_AS\"]"
   ]
  },
  {
   "cell_type": "code",
   "execution_count": 182,
   "id": "35d9094a",
   "metadata": {},
   "outputs": [
    {
     "data": {
      "text/plain": [
       "((558, 448), (373, 449))"
      ]
     },
     "execution_count": 182,
     "metadata": {},
     "output_type": "execute_result"
    }
   ],
   "source": [
    "test.shape,train.shape"
   ]
  },
  {
   "cell_type": "code",
   "execution_count": 183,
   "id": "a86efdea",
   "metadata": {},
   "outputs": [],
   "source": [
    "y = train[\"MERCHANT_CATEGORIZED_AS\"]\n",
    "del train[\"MERCHANT_CATEGORIZED_AS\"]\n",
    "X = train"
   ]
  },
  {
   "cell_type": "code",
   "execution_count": 184,
   "id": "8ff82c37",
   "metadata": {},
   "outputs": [],
   "source": [
    "from imblearn.over_sampling import RandomOverSampler\n",
    "ros = RandomOverSampler()\n",
    "X,y = ros.fit_resample(X,y)\n",
    "X,y = np.array(X),np.array(y)"
   ]
  },
  {
   "cell_type": "code",
   "execution_count": 185,
   "id": "eac54573",
   "metadata": {},
   "outputs": [],
   "source": [
    "from sklearn.model_selection import StratifiedKFold,cross_val_score\n",
    "from sklearn.metrics import log_loss,accuracy_score\n",
    "sk = StratifiedKFold()\n",
    "for train_index,test_index in sk.split(X,y):\n",
    "    X_train,y_train = X[train_index],y[train_index]\n",
    "    X_test,y_test = X[test_index],y[test_index]"
   ]
  },
  {
   "cell_type": "code",
   "execution_count": 186,
   "id": "cc60470d",
   "metadata": {},
   "outputs": [
    {
     "data": {
      "text/plain": [
       "(0.9975369458128078, 0.9554455445544554, 0.1820362378532085)"
      ]
     },
     "execution_count": 186,
     "metadata": {},
     "output_type": "execute_result"
    }
   ],
   "source": [
    "from lightgbm import LGBMClassifier\n",
    "lg = LGBMClassifier(\n",
    "#     n_estimators=100,\n",
    "#     boosting_type=\"gbdt\",\n",
    "#     learning_rate=0.08,#0.08\n",
    "#     num_leaves=32,#32\n",
    "     random_state=0\n",
    ")\n",
    "lg.fit(X_train,y_train)\n",
    "pr_lg = lg.predict_proba(X_test)\n",
    "lg.score(X_train,y_train),lg.score(X_test,y_test),log_loss(y_test,pr_lg)"
   ]
  },
  {
   "cell_type": "code",
   "execution_count": 155,
   "id": "92c22b02",
   "metadata": {},
   "outputs": [
    {
     "data": {
      "text/plain": [
       "(0.9889162561576355, 0.9653465346534653, 0.39544960191397543)"
      ]
     },
     "execution_count": 155,
     "metadata": {},
     "output_type": "execute_result"
    }
   ],
   "source": [
    "from catboost import CatBoostClassifier\n",
    "cb = CatBoostClassifier(\n",
    "     silent=True,\n",
    "     n_estimators=60,\n",
    "     learning_rate=0.8,\n",
    "     depth=10,#10\n",
    "     #random_state=2030\n",
    ")\n",
    "cb.fit(X_train,y_train)\n",
    "pr_cb = cb.predict_proba(X_test)\n",
    "cb.score(X_train,y_train),cb.score(X_test,y_test),log_loss(y_test,pr_cb)"
   ]
  },
  {
   "cell_type": "code",
   "execution_count": 156,
   "id": "d0c45dfc",
   "metadata": {},
   "outputs": [
    {
     "data": {
      "text/plain": [
       "(0.9901477832512315, 0.9653465346534653, 0.40320067156035083)"
      ]
     },
     "execution_count": 156,
     "metadata": {},
     "output_type": "execute_result"
    }
   ],
   "source": [
    "from sklearn.ensemble import BaggingClassifier\n",
    "bg = BaggingClassifier(\n",
    "    base_estimator=cb,\n",
    "    random_state=2030\n",
    ")\n",
    "bg.fit(X_train,y_train)\n",
    "pr_bg = bg.predict_proba(X_test)\n",
    "bg.score(X_train,y_train),bg.score(X_test,y_test),log_loss(y_test,pr_bg)"
   ]
  },
  {
   "cell_type": "code",
   "execution_count": 210,
   "id": "f662d519",
   "metadata": {},
   "outputs": [],
   "source": [
    "# est = [(\"cb\",cb),(\"lg\",lg)]\n",
    "# sc = StackingClassifier(\n",
    "#     estimators=est\n",
    "# )\n",
    "# sc.fit(X_train,y_train)\n",
    "# pr_sk = sc.predict_proba(X_test)\n",
    "# sc.score(X_train,y_train),sc.score(X_test,y_test),log_loss(y_test,pr_sk)"
   ]
  },
  {
   "cell_type": "code",
   "execution_count": 157,
   "id": "3699f007",
   "metadata": {},
   "outputs": [],
   "source": [
    "cols = ['Bills & Fees','Data & WiFi','Education','Emergency fund','Family & Friends','Going out','Groceries',\n",
    " 'Health','Loan Repayment','Miscellaneous','Rent / Mortgage','Shopping','Transport & Fuel']"
   ]
  },
  {
   "cell_type": "code",
   "execution_count": 158,
   "id": "bf5f729a",
   "metadata": {},
   "outputs": [],
   "source": [
    "#test = np.array(test)\n",
    "predicts = bg.predict_proba(test)\n",
    "subm = pd.DataFrame(predicts,columns=cols)\n",
    "subm = pd.concat([ID,subm],join=\"inner\",axis=1)\n",
    "subm.to_csv(\"solution.csv\",index=False)"
   ]
  },
  {
   "cell_type": "code",
   "execution_count": null,
   "id": "e92673e9",
   "metadata": {},
   "outputs": [],
   "source": []
  }
 ],
 "metadata": {
  "kernelspec": {
   "display_name": "Python 3 (ipykernel)",
   "language": "python",
   "name": "python3"
  },
  "language_info": {
   "codemirror_mode": {
    "name": "ipython",
    "version": 3
   },
   "file_extension": ".py",
   "mimetype": "text/x-python",
   "name": "python",
   "nbconvert_exporter": "python",
   "pygments_lexer": "ipython3",
   "version": "3.8.12"
  }
 },
 "nbformat": 4,
 "nbformat_minor": 5
}
