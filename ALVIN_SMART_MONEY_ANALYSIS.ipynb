{
 "cells": [
  {
   "cell_type": "markdown",
   "id": "eb604a89",
   "metadata": {},
   "source": [
    "## Importing libraries"
   ]
  },
  {
   "cell_type": "code",
   "execution_count": 113,
   "id": "0694ce63",
   "metadata": {},
   "outputs": [],
   "source": [
    "from zipfile import ZipFile\n",
    "import numpy as np\n",
    "import pandas as pd\n",
    "import matplotlib.pyplot as plt\n",
    "import seaborn as sns\n",
    "import warnings\n",
    "from collections import Counter\n",
    "warnings.filterwarnings(\"ignore\")\n",
    "pd.set_option(\"display.max_colwidth\",None)"
   ]
  },
  {
   "cell_type": "markdown",
   "id": "a4aa9640",
   "metadata": {},
   "source": [
    "## Loading Data"
   ]
  },
  {
   "cell_type": "code",
   "execution_count": 114,
   "id": "087a777f",
   "metadata": {},
   "outputs": [],
   "source": [
    "train = pd.read_csv(\"Train.csv\")\n",
    "test = pd.read_csv(\"Test.csv\")\n",
    "ID = test[\"Transaction_ID\"]"
   ]
  },
  {
   "cell_type": "markdown",
   "id": "502729a3",
   "metadata": {},
   "source": [
    "Getting the first insight from the data to obtain the general understanding from the data"
   ]
  },
  {
   "cell_type": "code",
   "execution_count": 115,
   "id": "15b91662",
   "metadata": {},
   "outputs": [
    {
     "data": {
      "text/plain": [
       "((373, 12), 4476)"
      ]
     },
     "execution_count": 115,
     "metadata": {},
     "output_type": "execute_result"
    }
   ],
   "source": [
    "train.shape,train.size"
   ]
  },
  {
   "cell_type": "code",
   "execution_count": 116,
   "id": "8a35a62e",
   "metadata": {},
   "outputs": [
    {
     "data": {
      "text/html": [
       "<div>\n",
       "<style scoped>\n",
       "    .dataframe tbody tr th:only-of-type {\n",
       "        vertical-align: middle;\n",
       "    }\n",
       "\n",
       "    .dataframe tbody tr th {\n",
       "        vertical-align: top;\n",
       "    }\n",
       "\n",
       "    .dataframe thead th {\n",
       "        text-align: right;\n",
       "    }\n",
       "</style>\n",
       "<table border=\"1\" class=\"dataframe\">\n",
       "  <thead>\n",
       "    <tr style=\"text-align: right;\">\n",
       "      <th></th>\n",
       "      <th>PURCHASE_VALUE</th>\n",
       "      <th>USER_AGE</th>\n",
       "      <th>USER_HOUSEHOLD</th>\n",
       "      <th>USER_INCOME</th>\n",
       "    </tr>\n",
       "  </thead>\n",
       "  <tbody>\n",
       "    <tr>\n",
       "      <th>count</th>\n",
       "      <td>373.000000</td>\n",
       "      <td>61.000000</td>\n",
       "      <td>373.000000</td>\n",
       "      <td>373.000000</td>\n",
       "    </tr>\n",
       "    <tr>\n",
       "      <th>mean</th>\n",
       "      <td>4506.522788</td>\n",
       "      <td>25.803279</td>\n",
       "      <td>2.831099</td>\n",
       "      <td>146235.924933</td>\n",
       "    </tr>\n",
       "    <tr>\n",
       "      <th>std</th>\n",
       "      <td>15722.261797</td>\n",
       "      <td>1.423841</td>\n",
       "      <td>1.600033</td>\n",
       "      <td>166521.780346</td>\n",
       "    </tr>\n",
       "    <tr>\n",
       "      <th>min</th>\n",
       "      <td>10.000000</td>\n",
       "      <td>25.000000</td>\n",
       "      <td>1.000000</td>\n",
       "      <td>8000.000000</td>\n",
       "    </tr>\n",
       "    <tr>\n",
       "      <th>25%</th>\n",
       "      <td>150.000000</td>\n",
       "      <td>25.000000</td>\n",
       "      <td>1.000000</td>\n",
       "      <td>23000.000000</td>\n",
       "    </tr>\n",
       "    <tr>\n",
       "      <th>50%</th>\n",
       "      <td>690.000000</td>\n",
       "      <td>25.000000</td>\n",
       "      <td>3.000000</td>\n",
       "      <td>90000.000000</td>\n",
       "    </tr>\n",
       "    <tr>\n",
       "      <th>75%</th>\n",
       "      <td>2000.000000</td>\n",
       "      <td>27.000000</td>\n",
       "      <td>4.000000</td>\n",
       "      <td>200000.000000</td>\n",
       "    </tr>\n",
       "    <tr>\n",
       "      <th>max</th>\n",
       "      <td>150000.000000</td>\n",
       "      <td>32.000000</td>\n",
       "      <td>7.000000</td>\n",
       "      <td>1000000.000000</td>\n",
       "    </tr>\n",
       "  </tbody>\n",
       "</table>\n",
       "</div>"
      ],
      "text/plain": [
       "       PURCHASE_VALUE   USER_AGE  USER_HOUSEHOLD     USER_INCOME\n",
       "count      373.000000  61.000000      373.000000      373.000000\n",
       "mean      4506.522788  25.803279        2.831099   146235.924933\n",
       "std      15722.261797   1.423841        1.600033   166521.780346\n",
       "min         10.000000  25.000000        1.000000     8000.000000\n",
       "25%        150.000000  25.000000        1.000000    23000.000000\n",
       "50%        690.000000  25.000000        3.000000    90000.000000\n",
       "75%       2000.000000  27.000000        4.000000   200000.000000\n",
       "max     150000.000000  32.000000        7.000000  1000000.000000"
      ]
     },
     "execution_count": 116,
     "metadata": {},
     "output_type": "execute_result"
    }
   ],
   "source": [
    "train.describe()"
   ]
  },
  {
   "cell_type": "code",
   "execution_count": 117,
   "id": "d4b0a3b3",
   "metadata": {},
   "outputs": [
    {
     "data": {
      "text/plain": [
       "MERCHANT_CATEGORIZED_AT                    0\n",
       "MERCHANT_NAME                              0\n",
       "MERCHANT_CATEGORIZED_AS                    0\n",
       "PURCHASE_VALUE                             0\n",
       "PURCHASED_AT                               0\n",
       "IS_PURCHASE_PAID_VIA_MPESA_SEND_MONEY      0\n",
       "USER_AGE                                 312\n",
       "USER_GENDER                                6\n",
       "USER_HOUSEHOLD                             0\n",
       "USER_INCOME                                0\n",
       "USER_ID                                    0\n",
       "Transaction_ID                             0\n",
       "dtype: int64"
      ]
     },
     "execution_count": 117,
     "metadata": {},
     "output_type": "execute_result"
    }
   ],
   "source": [
    "np.sum(train.isnull())"
   ]
  },
  {
   "cell_type": "markdown",
   "id": "011c9a7b",
   "metadata": {},
   "source": [
    "USER_AGE seems to hold some of the null values will try to use missing value handling techiniques such as filling,replacing or drop them completely"
   ]
  },
  {
   "cell_type": "code",
   "execution_count": 118,
   "id": "6c671ef5",
   "metadata": {},
   "outputs": [],
   "source": [
    "train[\"split\"] = -777\n",
    "test[\"split\"] = -888\n",
    "#extra[\"split\"] = -999\n",
    "data = pd.concat([train,test]).reset_index(drop=True)"
   ]
  },
  {
   "cell_type": "code",
   "execution_count": 119,
   "id": "65b90f9a",
   "metadata": {
    "scrolled": true
   },
   "outputs": [
    {
     "data": {
      "text/plain": [
       "MERCHANT_CATEGORIZED_AT                   object\n",
       "MERCHANT_NAME                             object\n",
       "MERCHANT_CATEGORIZED_AS                   object\n",
       "PURCHASE_VALUE                             int64\n",
       "PURCHASED_AT                              object\n",
       "IS_PURCHASE_PAID_VIA_MPESA_SEND_MONEY       bool\n",
       "USER_AGE                                 float64\n",
       "USER_GENDER                               object\n",
       "USER_HOUSEHOLD                             int64\n",
       "USER_INCOME                                int64\n",
       "USER_ID                                   object\n",
       "Transaction_ID                            object\n",
       "split                                      int64\n",
       "dtype: object"
      ]
     },
     "execution_count": 119,
     "metadata": {},
     "output_type": "execute_result"
    }
   ],
   "source": [
    "data.dtypes"
   ]
  },
  {
   "cell_type": "code",
   "execution_count": 120,
   "id": "08d15270",
   "metadata": {},
   "outputs": [],
   "source": [
    "viz_data = data.copy()\n",
    "try:\n",
    "    del viz_data[\"MERCHANT_CATEGORIZED_AT\"],viz_data[\"USER_ID\"],viz_data[\"Transaction_ID\"],viz_data[\"USER_AGE\"],viz_data[\"split\"]\n",
    "    #del train[\"MERCHANT_NAME\"],train[\"USER_AGE\"]\n",
    "except Exception:\n",
    "    print(\"Already dropped\")\n",
    "#data[\"USER_AGE\"] = data[\"USER_AGE\"].fillna(data[\"USER_AGE\"].median())\n",
    "#train = pd.get_dummies(train,columns=[\"MERCHANT_NAME\"])"
   ]
  },
  {
   "cell_type": "markdown",
   "id": "66c2cc15",
   "metadata": {},
   "source": [
    "## Data visualization"
   ]
  },
  {
   "cell_type": "code",
   "execution_count": 129,
   "id": "6d3f33cd",
   "metadata": {},
   "outputs": [
    {
     "data": {
      "image/png": "[encoded data removed]",
      "text/plain": [
       "<Figure size 1500x1000 with 4 Axes>"
      ]
     },
     "metadata": {},
     "output_type": "display_data"
    }
   ],
   "source": [
    "plt.figure(figsize=(15,10))\n",
    "c = 1\n",
    "for i in viz_data:\n",
    "    if data[i].dtypes == object:\n",
    "        try:\n",
    "            plt.subplot(2,5,c)\n",
    "        except:\n",
    "            pass\n",
    "        sns.countplot(viz_data[i])\n",
    "    c = c + 1\n",
    "plt.show()"
   ]
  },
  {
   "cell_type": "code",
   "execution_count": 80,
   "id": "b1e77f42",
   "metadata": {},
   "outputs": [],
   "source": [
    "data[\"PURCHASED_AT\"] = pd.to_datetime(data[\"PURCHASED_AT\"]).dt.tz_localize(None)\n",
    "data[\"PURCHASE_DATE\"] = pd.to_datetime(data[\"PURCHASED_AT\"]).dt.day\n",
    "data[\"PURCHASE_MONTH\"] = pd.to_datetime(data[\"PURCHASED_AT\"]).dt.month\n",
    "data[\"PURCHASE_YEAR\"] = pd.to_datetime(data[\"PURCHASED_AT\"]).dt.year\n",
    "del data[\"PURCHASED_AT\"]"
   ]
  },
  {
   "cell_type": "code",
   "execution_count": 81,
   "id": "0ca05d97",
   "metadata": {},
   "outputs": [
    {
     "data": {
      "text/plain": [
       "MERCHANT_NAME                            object\n",
       "MERCHANT_CATEGORIZED_AS                  object\n",
       "PURCHASE_VALUE                            int64\n",
       "IS_PURCHASE_PAID_VIA_MPESA_SEND_MONEY      bool\n",
       "USER_GENDER                              object\n",
       "USER_HOUSEHOLD                            int64\n",
       "USER_INCOME                               int64\n",
       "split                                     int64\n",
       "PURCHASE_DATE                             int64\n",
       "PURCHASE_MONTH                            int64\n",
       "PURCHASE_YEAR                             int64\n",
       "dtype: object"
      ]
     },
     "execution_count": 81,
     "metadata": {},
     "output_type": "execute_result"
    }
   ],
   "source": [
    "data.dtypes"
   ]
  },
  {
   "cell_type": "code",
   "execution_count": 66,
   "id": "7da1c306",
   "metadata": {},
   "outputs": [],
   "source": [
    "data = pd.get_dummies(data,columns=[\"MERCHANT_NAME\"])"
   ]
  },
  {
   "cell_type": "code",
   "execution_count": 67,
   "id": "04405043",
   "metadata": {},
   "outputs": [],
   "source": [
    "from sklearn.preprocessing import LabelEncoder\n",
    "le = LabelEncoder()\n",
    "for i in data:\n",
    "    if data[i].dtypes == 'O' or data[i].dtypes ==  bool:\n",
    "        data[i] = le.fit_transform(data[i])"
   ]
  },
  {
   "cell_type": "code",
   "execution_count": 68,
   "id": "ee6e487a",
   "metadata": {},
   "outputs": [],
   "source": [
    "train = data[data[\"split\"] == -777]\n",
    "test = data[data[\"split\"] == -888]\n",
    "extra = data[data[\"split\"] == -999]\n",
    "del train[\"split\"],test[\"split\"]\n",
    "del extra[\"MERCHANT_CATEGORIZED_AS\"],extra[\"split\"],test[\"MERCHANT_CATEGORIZED_AS\"]"
   ]
  },
  {
   "cell_type": "code",
   "execution_count": 133,
   "id": "a86efdea",
   "metadata": {},
   "outputs": [],
   "source": [
    "y = train[\"MERCHANT_CATEGORIZED_AS\"]\n",
    "del train[\"MERCHANT_CATEGORIZED_AS\"]\n",
    "X = train"
   ]
  },
  {
   "cell_type": "code",
   "execution_count": 134,
   "id": "3399fe67",
   "metadata": {},
   "outputs": [
    {
     "data": {
      "text/plain": [
       "<AxesSubplot:xlabel='MERCHANT_CATEGORIZED_AS', ylabel='count'>"
      ]
     },
     "execution_count": 134,
     "metadata": {},
     "output_type": "execute_result"
    },
    {
     "data": {
      "image/png": "[encoded data removed]",
      "text/plain": [
       "<Figure size 640x480 with 1 Axes>"
      ]
     },
     "metadata": {},
     "output_type": "display_data"
    }
   ],
   "source": [
    "sns.countplot(y)"
   ]
  },
  {
   "cell_type": "code",
   "execution_count": 135,
   "id": "8ff82c37",
   "metadata": {},
   "outputs": [],
   "source": [
    "from imblearn.over_sampling import RandomOverSampler\n",
    "ros = RandomOverSampler()\n",
    "X,y = ros.fit_resample(X,y)\n",
    "X,y = np.array(X),np.array(y)"
   ]
  },
  {
   "cell_type": "code",
   "execution_count": 136,
   "id": "8e51f30d",
   "metadata": {},
   "outputs": [
    {
     "data": {
      "text/plain": [
       "<AxesSubplot:ylabel='count'>"
      ]
     },
     "execution_count": 136,
     "metadata": {},
     "output_type": "execute_result"
    },
    {
     "data": {
      "image/png": "[encoded data removed]",
      "text/plain": [
       "<Figure size 640x480 with 1 Axes>"
      ]
     },
     "metadata": {},
     "output_type": "display_data"
    }
   ],
   "source": [
    "sns.countplot(y)"
   ]
  },
  {
   "cell_type": "code",
   "execution_count": 185,
   "id": "eac54573",
   "metadata": {},
   "outputs": [],
   "source": [
    "from sklearn.model_selection import StratifiedKFold,cross_val_score\n",
    "from sklearn.metrics import log_loss,accuracy_score\n",
    "sk = StratifiedKFold()\n",
    "for train_index,test_index in sk.split(X,y):\n",
    "    X_train,y_train = X[train_index],y[train_index]\n",
    "    X_test,y_test = X[test_index],y[test_index]"
   ]
  },
  {
   "cell_type": "code",
   "execution_count": 186,
   "id": "cc60470d",
   "metadata": {},
   "outputs": [
    {
     "data": {
      "text/plain": [
       "(0.9975369458128078, 0.9554455445544554, 0.1820362378532085)"
      ]
     },
     "execution_count": 186,
     "metadata": {},
     "output_type": "execute_result"
    }
   ],
   "source": [
    "from lightgbm import LGBMClassifier\n",
    "lg = LGBMClassifier(\n",
    "    n_estimators=100,\n",
    "    boosting_type=\"gbdt\",\n",
    "    learning_rate=0.08,#0.08\n",
    "    num_leaves=32,\n",
    "     random_state=0\n",
    ")\n",
    "lg.fit(X_train,y_train)\n",
    "pr_lg = lg.predict_proba(X_test)\n",
    "lg.score(X_train,y_train),lg.score(X_test,y_test),log_loss(y_test,pr_lg)"
   ]
  },
  {
   "cell_type": "code",
   "execution_count": 155,
   "id": "92c22b02",
   "metadata": {},
   "outputs": [
    {
     "data": {
      "text/plain": [
       "(0.9889162561576355, 0.9653465346534653, 0.39544960191397543)"
      ]
     },
     "execution_count": 155,
     "metadata": {},
     "output_type": "execute_result"
    }
   ],
   "source": [
    "from catboost import CatBoostClassifier\n",
    "cb = CatBoostClassifier(\n",
    "     silent=True,\n",
    "     n_estimators=60,\n",
    "     learning_rate=0.8,\n",
    "     depth=10,#10\n",
    "     #random_state=2030\n",
    ")\n",
    "cb.fit(X_train,y_train)\n",
    "pr_cb = cb.predict_proba(X_test)\n",
    "cb.score(X_train,y_train),cb.score(X_test,y_test),log_loss(y_test,pr_cb)"
   ]
  },
  {
   "cell_type": "code",
   "execution_count": 156,
   "id": "d0c45dfc",
   "metadata": {},
   "outputs": [
    {
     "data": {
      "text/plain": [
       "(0.9901477832512315, 0.9653465346534653, 0.40320067156035083)"
      ]
     },
     "execution_count": 156,
     "metadata": {},
     "output_type": "execute_result"
    }
   ],
   "source": [
    "from sklearn.ensemble import BaggingClassifier\n",
    "bg = BaggingClassifier(\n",
    "    base_estimator=cb,\n",
    "    random_state=2030\n",
    ")\n",
    "bg.fit(X_train,y_train)\n",
    "pr_bg = bg.predict_proba(X_test)\n",
    "bg.score(X_train,y_train),bg.score(X_test,y_test),log_loss(y_test,pr_bg)"
   ]
  },
  {
   "cell_type": "code",
   "execution_count": 210,
   "id": "f662d519",
   "metadata": {},
   "outputs": [],
   "source": [
    "# est = [(\"cb\",cb),(\"lg\",lg)]\n",
    "# sc = StackingClassifier(\n",
    "#     estimators=est\n",
    "# )\n",
    "# sc.fit(X_train,y_train)\n",
    "# pr_sk = sc.predict_proba(X_test)\n",
    "# sc.score(X_train,y_train),sc.score(X_test,y_test),log_loss(y_test,pr_sk)"
   ]
  },
  {
   "cell_type": "code",
   "execution_count": 157,
   "id": "3699f007",
   "metadata": {},
   "outputs": [],
   "source": [
    "cols = ['Bills & Fees','Data & WiFi','Education','Emergency fund','Family & Friends','Going out','Groceries',\n",
    " 'Health','Loan Repayment','Miscellaneous','Rent / Mortgage','Shopping','Transport & Fuel']"
   ]
  },
  {
   "cell_type": "code",
   "execution_count": 158,
   "id": "bf5f729a",
   "metadata": {},
   "outputs": [],
   "source": [
    "#test = np.array(test)\n",
    "predicts = bg.predict_proba(test)\n",
    "subm = pd.DataFrame(predicts,columns=cols)\n",
    "subm = pd.concat([ID,subm],join=\"inner\",axis=1)\n",
    "subm.to_csv(\"solution.csv\",index=False)"
   ]
  },
  {
   "cell_type": "code",
   "execution_count": null,
   "id": "e92673e9",
   "metadata": {},
   "outputs": [],
   "source": []
  }
 ],
 "metadata": {
  "kernelspec": {
   "display_name": "Python 3 (ipykernel)",
   "language": "python",
   "name": "python3"
  },
  "language_info": {
   "codemirror_mode": {
    "name": "ipython",
    "version": 3
   },
   "file_extension": ".py",
   "mimetype": "text/x-python",
   "name": "python",
   "nbconvert_exporter": "python",
   "pygments_lexer": "ipython3",
   "version": "3.8.12"
  }
 },
 "nbformat": 4,
 "nbformat_minor": 5
}
